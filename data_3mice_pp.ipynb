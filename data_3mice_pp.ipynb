{
 "cells": [
  {
   "cell_type": "code",
   "execution_count": 1,
   "metadata": {},
   "outputs": [],
   "source": [
    "# imports\n",
    "\n",
    "import os\n",
    "\n",
    "import numpy as np\n",
    "import pandas as pd\n",
    "from sklearn.decomposition import PCA\n",
    "from sklearn.preprocessing import StandardScaler"
   ]
  },
  {
   "cell_type": "code",
   "execution_count": null,
   "metadata": {},
   "outputs": [],
   "source": [
    "submission_clips = np.load('data/submission_data.npy',allow_pickle=True).item()\n",
    "user_train = np.load('data/user_train.npy',allow_pickle=True).item()"
   ]
  }
 ],
 "metadata": {
  "interpreter": {
   "hash": "8b65681a3d19f4b473b45a90bc0c881aec513e0960c214c85a14e16ba4a66a1e"
  },
  "kernelspec": {
   "display_name": "Python 3.9.12 ('cs159')",
   "language": "python",
   "name": "python3"
  },
  "language_info": {
   "codemirror_mode": {
    "name": "ipython",
    "version": 3
   },
   "file_extension": ".py",
   "mimetype": "text/x-python",
   "name": "python",
   "nbconvert_exporter": "python",
   "pygments_lexer": "ipython3",
   "version": "3.9.12"
  },
  "orig_nbformat": 4
 },
 "nbformat": 4,
 "nbformat_minor": 2
}
