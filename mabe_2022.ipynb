{
 "cells": [
  {
   "cell_type": "markdown",
   "id": "df08b49a-0745-4bc7-b277-cbe71340c819",
   "metadata": {},
   "source": [
    "# CS 159 Project"
   ]
  },
  {
   "cell_type": "markdown",
   "id": "47befb20-8ced-4a71-a574-0ef0a1066dd3",
   "metadata": {},
   "source": [
    "### 1. Imports"
   ]
  },
  {
   "cell_type": "code",
   "execution_count": null,
   "id": "0d0d0a3d-8140-4f21-a72d-1c722c8da8cc",
   "metadata": {},
   "outputs": [],
   "source": [
    "import glob\n",
    "import os\n",
    "import numpy as np\n",
    "import pandas as pd\n",
    "import matplotlib.pyplot as plt\n",
    "import matplotlib as mpl\n",
    "\n",
    "import torch \n",
    "\n",
    "import warnings\n",
    "warnings.filterwarnings('ignore')\n",
    "np.random.seed(42)\n",
    "\n",
    "print(\"All packages imported!\")"
   ]
  },
  {
   "cell_type": "markdown",
   "id": "19274dd2-c8ed-48ef-9f67-e3d1bfad419d",
   "metadata": {},
   "source": [
    "### 2. Data\n",
    "\n",
    "#### Download"
   ]
  },
  {
   "cell_type": "code",
   "execution_count": null,
   "id": "f107e4fe-d8b5-4c56-8f66-1cb3954bf025",
   "metadata": {},
   "outputs": [],
   "source": [
    "# credentials\n",
    "%load_ext aicrowd.magic\n",
    "%aicrowd login"
   ]
  },
  {
   "cell_type": "code",
   "execution_count": null,
   "id": "78e91965-2daa-4b7c-bb46-c636953c20b0",
   "metadata": {},
   "outputs": [],
   "source": [
    "aicrowd_challenge_name = \"mabe-2022-mouse-triplets\"\n",
    "if not os.path.exists('data'):\n",
    "    os.mkdir('data')\n",
    "    \n",
    "if not os.path.exists('data/mabe'):\n",
    "    os.mkdir('data/mabe')\n",
    "\n",
    "# %aicrowd ds dl -c {aicrowd_challenge_name} -o data/mabe # Download all files\n",
    "%aicrowd ds dl -c {aicrowd_challenge_name} -o data/mabe *submission_data* # download only the submission keypoint data\n",
    "%aicrowd ds dl -c {aicrowd_challenge_name} -o data/mabe *user_train* # download data with the public task labels provided"
   ]
  },
  {
   "cell_type": "markdown",
   "id": "4ba5101e-ad1b-4f56-9b3e-5edb7fc1ac47",
   "metadata": {},
   "source": [
    "#### Processing"
   ]
  },
  {
   "cell_type": "markdown",
   "id": "293e3829-39c3-4bb7-9542-d8fcbb6a321f",
   "metadata": {},
   "source": []
  }
 ],
 "metadata": {
  "kernelspec": {
   "display_name": "Python 3 (ipykernel)",
   "language": "python",
   "name": "python3"
  },
  "language_info": {
   "codemirror_mode": {
    "name": "ipython",
    "version": 3
   },
   "file_extension": ".py",
   "mimetype": "text/x-python",
   "name": "python",
   "nbconvert_exporter": "python",
   "pygments_lexer": "ipython3",
   "version": "3.9.12"
  }
 },
 "nbformat": 4,
 "nbformat_minor": 5
}
