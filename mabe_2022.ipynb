{
 "cells": [
  {
   "cell_type": "markdown",
   "id": "df08b49a-0745-4bc7-b277-cbe71340c819",
   "metadata": {},
   "source": [
    "# CS 159 Project"
   ]
  },
  {
   "cell_type": "markdown",
   "id": "47befb20-8ced-4a71-a574-0ef0a1066dd3",
   "metadata": {},
   "source": [
    "### 1. Imports"
   ]
  },
  {
   "cell_type": "code",
   "execution_count": null,
   "id": "0d0d0a3d-8140-4f21-a72d-1c722c8da8cc",
   "metadata": {},
   "outputs": [],
   "source": [
    "import glob\n",
    "import os\n",
    "\n",
    "import numpy as np\n",
    "import pandas as pd\n",
    "import matplotlib.pyplot as plt\n",
    "import matplotlib as mpl\n",
    "\n",
    "import torch \n",
    "\n",
    "np.random.seed(0)\n",
    "torch.manual_seed(0)\n",
    "\n",
    "print(\"All packages imported!\")"
   ]
  },
  {
   "cell_type": "markdown",
   "id": "19274dd2-c8ed-48ef-9f67-e3d1bfad419d",
   "metadata": {},
   "source": [
    "### 2. Data\n",
    "\n",
    "Sequences are 1 minute long (1800 frames at 30Hz) in the mouse dataset. The `sequence_id` is a random hash to anonymize experiment details.\n",
    "\n",
    "\n",
    "- `user_train.npy` - Training set for the task, which follows the following schema :\n",
    "\n",
    "```\n",
    "{\n",
    "    \"sequences\" : {\n",
    "        \"<sequence_id> : {\n",
    "            \"keypoints\" : a ndarray of shape (4500, 11, 24, 2)\n",
    "        }\n",
    "    }\n",
    "}\n",
    "```\n",
    "\n",
    "- `submission_clips.npy` - Test set for the task, which follows the following schema:\n",
    "\n",
    "```\n",
    "{\n",
    "    \"<sequence_id> : {\n",
    "        \"keypoints\" : a ndarray of shape (4500, 11, 24, 2)\n",
    "    }\n",
    "}\n",
    "```\n",
    "- `sample_submission.npy` - Template for a sample submission for this task, follows the following schema :\n",
    "\n",
    "```\n",
    "{\n",
    "    \"frame_number_map\": \n",
    "        {\"<sequence_id-1>\": (start_frame_index, end_frame_index),\n",
    "        \"<sequence_id-2>\": (start_frame_index, end_frame_index),\n",
    "        ...\n",
    "        \"<sequence_id-n>\": (start_frame_index, end_frame_index),\n",
    "        }\n",
    "    \"<sequence_id-1>\" : [\n",
    "            [0.321, 0.234, 0.186, 0.857, 0.482, 0.185], .....]\n",
    "            [0.184, 0.583, 0.475], 0.485, 0.275, 0.958], .....]\n",
    "        ]\n",
    "}\n",
    "```\n",
    "\n",
    "In `sample_submission`, each key in the `frame_number_map` dictionary refers to the unique sequence id of a video in the test set. The item for each key is expected to be an the start and end index for slicing the `embeddings` numpy array to get the corresponding embeddings. The `embeddings` array is a 2D `ndarray` of floats of size `total_frames` by `X` , where `X` is the dimension of your learned embedding (6 in the above example; maximum permitted embedding dimension is **128**), representing the embedded value of each frame in the sequence. `total_frames` is the sum of all the frames of the sequences, the array should be concatenation of all the embeddings of all the clips."
   ]
  },
  {
   "cell_type": "markdown",
   "id": "2183b718-090f-4caa-a3e3-fe2d08d10bbe",
   "metadata": {},
   "source": [
    "#### Download"
   ]
  },
  {
   "cell_type": "code",
   "execution_count": null,
   "id": "f107e4fe-d8b5-4c56-8f66-1cb3954bf025",
   "metadata": {
    "tags": []
   },
   "outputs": [],
   "source": [
    "# set to false to download data\n",
    "DATA_DOWNLOADED = True\n",
    "\n",
    "mabe_fp = os.path.join('data', 'mabe')\n",
    "\n",
    "if not DATA_DOWNLOADED:\n",
    "    # credentials\n",
    "    !pip install -U aicrowd-cli\n",
    "    %load_ext aicrowd.magic\n",
    "    %aicrowd login\n",
    "    \n",
    "    # dirs\n",
    "    if not os.path.exists('data'):\n",
    "        os.mkdir('data')\n",
    "    if not os.path.exists(mabe_fp):\n",
    "        os.mkdir(mabe_fp)\n",
    "\n",
    "    aicrowd_challenge_name = \"mabe-2022-mouse-triplets\"\n",
    "    \n",
    "    # run only if you do not have the data\n",
    "    #%aicrowd ds dl -c {aicrowd_challenge_name} -o mabe_fp # Download all files (optional)\n",
    "    %aicrowd ds dl -c {aicrowd_challenge_name} -o {mabe_fp} *submission_data* # download only the submission keypoint data\n",
    "    %aicrowd ds dl -c {aicrowd_challenge_name} -o {mabe_fp} *user_train* # download data with the public task labels provided"
   ]
  },
  {
   "cell_type": "markdown",
   "id": "c16da592-f7ad-45ae-9005-e11359ad538c",
   "metadata": {
    "tags": []
   },
   "source": [
    "#### Importing"
   ]
  },
  {
   "cell_type": "code",
   "execution_count": null,
   "id": "b3ba52ee-da27-46fb-a047-0a39397b7dc5",
   "metadata": {},
   "outputs": [],
   "source": [
    "sub_clip_fp = os.path.join(mabe_fp, 'submission_data.npy')\n",
    "user_train_fp = os.path.join(mabe_fp, 'user_train.npy')\n",
    "                           \n",
    "sub_clip_dict = np.load(sub_clip_fp,allow_pickle=True).item()\n",
    "user_train_dict = np.load(user_train_fp,allow_pickle=True).item()"
   ]
  },
  {
   "cell_type": "markdown",
   "id": "4ba5101e-ad1b-4f56-9b3e-5edb7fc1ac47",
   "metadata": {},
   "source": [
    "#### Processing"
   ]
  },
  {
   "cell_type": "code",
   "execution_count": null,
   "id": "013eeddf-ceca-4b9d-8d66-0e5a781a37c4",
   "metadata": {},
   "outputs": [],
   "source": []
  }
 ],
 "metadata": {
  "kernelspec": {
   "display_name": "Python 3 (ipykernel)",
   "language": "python",
   "name": "python3"
  },
  "language_info": {
   "codemirror_mode": {
    "name": "ipython",
    "version": 3
   },
   "file_extension": ".py",
   "mimetype": "text/x-python",
   "name": "python",
   "nbconvert_exporter": "python",
   "pygments_lexer": "ipython3",
   "version": "3.9.12"
  }
 },
 "nbformat": 4,
 "nbformat_minor": 5
}
