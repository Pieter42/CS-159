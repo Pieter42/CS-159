{
 "cells": [
  {
   "cell_type": "code",
   "execution_count": 3,
   "metadata": {},
   "outputs": [],
   "source": [
    "# imports\n",
    "\n",
    "# !pip install networkx\n",
    "# !pip uninstall torch\n",
    "# !pip install torch_sparse\n",
    "# !pip install torch_geometric_temporal\n",
    "\n",
    "import os\n",
    "\n",
    "import matplotlib.pyplot as plt\n",
    "import networkx as nx\n",
    "import numpy as np\n",
    "import torch\n",
    "import torch.nn as nn\n",
    "import torch.nn.functional as F\n",
    "import torch_geometric as pyg\n",
    "import torch_geometric.nn as pyg_nn\n",
    "from torch_geometric.data import Data, Dataset\n",
    "from torch_geometric.loader import DataLoader\n",
    "from torch_geometric.nn import GATConv\n",
    "from torch_geometric.utils import to_networkx\n",
    "from torch_geometric_temporal.nn.recurrent import DCRNN\n",
    "from torch_geometric_temporal.signal import (StaticGraphTemporalSignal,\n",
    "                                             temporal_signal_split)\n",
    "from tqdm import tqdm"
   ]
  },
  {
   "cell_type": "code",
   "execution_count": 6,
   "metadata": {},
   "outputs": [],
   "source": [
    "# data loading task 1\n",
    "\n",
    "raw_data = np.load('data/raw/calms21_task1_train.npy', allow_pickle=True)\n",
    "raw_features = raw_data[()]['annotator-id_0']['task1/train/mouse001_task1_annotator1']['keypoints']\n",
    "labels = raw_data[()]['annotator-id_0']['task1/train/mouse001_task1_annotator1']['annotations']\n",
    "features = np.swapaxes(raw_features, 2,3).reshape(-1,14,2)"
   ]
  },
  {
   "cell_type": "code",
   "execution_count": 7,
   "metadata": {},
   "outputs": [],
   "source": [
    "# data loading task 3\n",
    "\n",
    "# raw_data = np.load('data/raw/calms21_task1_train.npy', allow_pickle=True)\n",
    "# raw_features = raw_data[()]['approach']['task3/approach/train/mouse001_task3_approach']['keypoints']\n",
    "# labels = raw_data[()]['approach']['task3/approach/train/mouse001_task3_approach']['annotations']"
   ]
  },
  {
   "cell_type": "code",
   "execution_count": 8,
   "metadata": {},
   "outputs": [],
   "source": [
    "# dataloader\n",
    "\n",
    "class MABDataset(Dataset):\n",
    "    def __init__(self, root, transform=None, pre_transform=None, pre_filter=None):\n",
    "        super().__init__(root, transform, pre_transform, pre_filter)\n",
    "\n",
    "    @property\n",
    "    def raw_file_names(self):\n",
    "        return 'calms21_task1_train.npy'\n",
    "\n",
    "    @property\n",
    "    def processed_file_names(self):\n",
    "        return 'not_implemented.pt'\n",
    "\n",
    "    def download(self):\n",
    "        pass\n",
    "\n",
    "    def process(self):\n",
    "        self.raw_data = np.load(self.raw_paths[0], allow_pickle=True)\n",
    "        raw_features = self.raw_data[()]['annotator-id_0']['task1/train/mouse001_task1_annotator1']['keypoints']\n",
    "        self.labels = self.raw_data[()]['annotator-id_0']['task1/train/mouse001_task1_annotator1']['annotations']\n",
    "        self.num_clases = 4\n",
    "        features = np.swapaxes(raw_features, 2,3).reshape(-1,14,2)\n",
    "        second_option = [[0, 0, 1, 1, 3, 3, 4, 5, 3, 7, 7, 8, 8, 10, 10, 11, 12], \n",
    "                         [1, 2, 3, 2, 4, 5, 6, 6, 10, 8, 9, 10, 9, 11, 12, 13, 13]]\n",
    "        edge_index = torch.tensor(second_option, dtype=torch.long)\n",
    "        for i in range(len(features)):\n",
    "            x = torch.tensor(features[i], dtype=torch.float)\n",
    "            y = torch.tensor(self.labels[i], dtype=torch.int)\n",
    "            graph = Data(x=x, edge_index=edge_index, y=y)\n",
    "            torch.save(graph, os.path.join(self.processed_dir, f'data_{i}.pt'))\n",
    "\n",
    "    def len(self):\n",
    "        return len(self.labels)\n",
    "\n",
    "    def get(self, idx):\n",
    "        data = torch.load(os.path.join(self.processed_dir, f'data_{idx}.pt'))\n",
    "        return data"
   ]
  },
  {
   "cell_type": "code",
   "execution_count": 9,
   "metadata": {},
   "outputs": [
    {
     "name": "stderr",
     "output_type": "stream",
     "text": [
      "Processing...\n",
      "Done!\n"
     ]
    }
   ],
   "source": [
    "# create dataset\n",
    "\n",
    "dataset = MABDataset(root='./data')"
   ]
  },
  {
   "cell_type": "code",
   "execution_count": 10,
   "metadata": {},
   "outputs": [],
   "source": [
    "# outdated dataloader\n",
    "\n",
    "# second_option = [[0, 0, 1, 1, 3, 3, 4, 5, 3, 7, 7, 8, 8, 10, 10, 11, 12], \n",
    "#                          [1, 2, 3, 2, 4, 5, 6, 6, 10, 8, 9, 10, 9, 11, 12, 13, 13]]\n",
    "# edge_index = torch.tensor(second_option, dtype=torch.int)\n",
    "# dataset_outdated = StaticGraphTemporalSignal(second_option,np.ones(np.array(second_option).shape[1]),features,labels)"
   ]
  },
  {
   "cell_type": "code",
   "execution_count": 11,
   "metadata": {},
   "outputs": [
    {
     "ename": "NameError",
     "evalue": "name 'data' is not defined",
     "output_type": "error",
     "traceback": [
      "\u001b[0;31m---------------------------------------------------------------------------\u001b[0m",
      "\u001b[0;31mNameError\u001b[0m                                 Traceback (most recent call last)",
      "\u001b[1;32m/Users/pieter/Documents/CS-159/data_pieter.ipynb Cell 7'\u001b[0m in \u001b[0;36m<cell line: 3>\u001b[0;34m()\u001b[0m\n\u001b[1;32m      <a href='vscode-notebook-cell:/Users/pieter/Documents/CS-159/data_pieter.ipynb#ch0000009?line=0'>1</a>\u001b[0m \u001b[39m# plot the graph\u001b[39;00m\n\u001b[0;32m----> <a href='vscode-notebook-cell:/Users/pieter/Documents/CS-159/data_pieter.ipynb#ch0000009?line=2'>3</a>\u001b[0m G \u001b[39m=\u001b[39m to_networkx(data[\u001b[39m1115\u001b[39m], to_undirected\u001b[39m=\u001b[39m\u001b[39mTrue\u001b[39;00m)\n\u001b[1;32m      <a href='vscode-notebook-cell:/Users/pieter/Documents/CS-159/data_pieter.ipynb#ch0000009?line=4'>5</a>\u001b[0m \u001b[39m# method 1\u001b[39;00m\n\u001b[1;32m      <a href='vscode-notebook-cell:/Users/pieter/Documents/CS-159/data_pieter.ipynb#ch0000009?line=5'>6</a>\u001b[0m G \u001b[39m=\u001b[39m nx\u001b[39m.\u001b[39mDiGraph(G)\n",
      "\u001b[0;31mNameError\u001b[0m: name 'data' is not defined"
     ]
    }
   ],
   "source": [
    "# plot the graph\n",
    "\n",
    "G = to_networkx(data[1115], to_undirected=True)\n",
    "\n",
    "# method 1\n",
    "G = nx.DiGraph(G)\n",
    "nx.draw(G)\n",
    "\n",
    "# method 2\n",
    "def visualize(h, color, epoch=None, loss=None):\n",
    "    plt.figure(figsize=(7,7))\n",
    "    plt.xticks([])\n",
    "    plt.yticks([])\n",
    "\n",
    "    if torch.is_tensor(h):\n",
    "        h = h.detach().cpu().numpy()\n",
    "        plt.scatter(h[:, 0], h[:, 1], s=140, c=color, cmap=\"Set2\")\n",
    "        if epoch is not None and loss is not None:\n",
    "            plt.xlabel(f'Epoch: {epoch}, Loss: {loss.item():.4f}', fontsize=16)\n",
    "    else:\n",
    "        nx.draw_networkx(G, pos=nx.spring_layout(G, seed=42), with_labels=False,\n",
    "                         node_color=color, cmap=\"Set2\")\n",
    "    plt.show()"
   ]
  },
  {
   "cell_type": "code",
   "execution_count": 12,
   "metadata": {},
   "outputs": [],
   "source": [
    "# defining the model\n",
    "\n",
    "class RecurrentGCN(torch.nn.Module):\n",
    "    def __init__(self, node_features):\n",
    "        super(RecurrentGCN, self).__init__()\n",
    "        self.recurrent = DCRNN(node_features, 32, 1)\n",
    "        self.linear = torch.nn.Linear(32, 1)\n",
    "\n",
    "    def forward(self, x, edge_index, edge_weight):\n",
    "        h = self.recurrent(x, edge_index, edge_weight)\n",
    "        h = F.relu(h)\n",
    "        h = self.linear(h)\n",
    "        return h"
   ]
  },
  {
   "cell_type": "code",
   "execution_count": 13,
   "metadata": {},
   "outputs": [
    {
     "name": "stderr",
     "output_type": "stream",
     "text": [
      "  0%|          | 0/200 [00:00<?, ?it/s]"
     ]
    },
    {
     "name": "stdout",
     "output_type": "stream",
     "text": [
      "tensor(6.0988, grad_fn=<DivBackward0>)\n"
     ]
    },
    {
     "name": "stderr",
     "output_type": "stream",
     "text": [
      "  0%|          | 1/200 [00:20<1:09:06, 20.84s/it]"
     ]
    },
    {
     "name": "stdout",
     "output_type": "stream",
     "text": [
      "tensor(3.1763, grad_fn=<DivBackward0>)\n"
     ]
    },
    {
     "name": "stderr",
     "output_type": "stream",
     "text": [
      "  1%|          | 2/200 [00:41<1:08:55, 20.89s/it]"
     ]
    },
    {
     "name": "stdout",
     "output_type": "stream",
     "text": [
      "tensor(2.5685, grad_fn=<DivBackward0>)\n"
     ]
    },
    {
     "name": "stderr",
     "output_type": "stream",
     "text": [
      "  2%|▏         | 3/200 [01:02<1:07:44, 20.63s/it]"
     ]
    },
    {
     "name": "stdout",
     "output_type": "stream",
     "text": [
      "tensor(2.2719, grad_fn=<DivBackward0>)\n"
     ]
    },
    {
     "name": "stderr",
     "output_type": "stream",
     "text": [
      "  2%|▏         | 4/200 [01:22<1:06:45, 20.43s/it]"
     ]
    },
    {
     "name": "stdout",
     "output_type": "stream",
     "text": [
      "tensor(2.0084, grad_fn=<DivBackward0>)\n"
     ]
    },
    {
     "name": "stderr",
     "output_type": "stream",
     "text": [
      "  2%|▎         | 5/200 [01:42<1:06:02, 20.32s/it]"
     ]
    },
    {
     "name": "stdout",
     "output_type": "stream",
     "text": [
      "tensor(1.7496, grad_fn=<DivBackward0>)\n"
     ]
    },
    {
     "name": "stderr",
     "output_type": "stream",
     "text": [
      "  3%|▎         | 6/200 [02:02<1:05:27, 20.24s/it]"
     ]
    },
    {
     "name": "stdout",
     "output_type": "stream",
     "text": [
      "tensor(1.5341, grad_fn=<DivBackward0>)\n"
     ]
    },
    {
     "name": "stderr",
     "output_type": "stream",
     "text": [
      "  4%|▎         | 7/200 [02:22<1:04:51, 20.16s/it]"
     ]
    },
    {
     "name": "stdout",
     "output_type": "stream",
     "text": [
      "tensor(1.3427, grad_fn=<DivBackward0>)\n"
     ]
    },
    {
     "name": "stderr",
     "output_type": "stream",
     "text": [
      "  4%|▍         | 8/200 [02:42<1:04:21, 20.11s/it]"
     ]
    },
    {
     "name": "stdout",
     "output_type": "stream",
     "text": [
      "tensor(1.1733, grad_fn=<DivBackward0>)\n"
     ]
    },
    {
     "name": "stderr",
     "output_type": "stream",
     "text": [
      "  4%|▍         | 9/200 [03:02<1:03:49, 20.05s/it]"
     ]
    },
    {
     "name": "stdout",
     "output_type": "stream",
     "text": [
      "tensor(1.0264, grad_fn=<DivBackward0>)\n"
     ]
    },
    {
     "name": "stderr",
     "output_type": "stream",
     "text": [
      "  5%|▌         | 10/200 [03:22<1:03:26, 20.04s/it]"
     ]
    },
    {
     "name": "stdout",
     "output_type": "stream",
     "text": [
      "tensor(0.9017, grad_fn=<DivBackward0>)\n"
     ]
    },
    {
     "name": "stderr",
     "output_type": "stream",
     "text": [
      "  6%|▌         | 11/200 [03:46<1:04:56, 20.62s/it]\n"
     ]
    },
    {
     "ename": "KeyboardInterrupt",
     "evalue": "",
     "output_type": "error",
     "traceback": [
      "\u001b[0;31m---------------------------------------------------------------------------\u001b[0m",
      "\u001b[0;31mKeyboardInterrupt\u001b[0m                         Traceback (most recent call last)",
      "\u001b[1;32m/Users/pieter/Documents/CS-159/data_pieter.ipynb Cell 9'\u001b[0m in \u001b[0;36m<cell line: 11>\u001b[0;34m()\u001b[0m\n\u001b[1;32m     <a href='vscode-notebook-cell:/Users/pieter/Documents/CS-159/data_pieter.ipynb#ch0000011?line=11'>12</a>\u001b[0m cost \u001b[39m=\u001b[39m \u001b[39m0\u001b[39m\n\u001b[1;32m     <a href='vscode-notebook-cell:/Users/pieter/Documents/CS-159/data_pieter.ipynb#ch0000011?line=12'>13</a>\u001b[0m \u001b[39mfor\u001b[39;00m time, snapshot \u001b[39min\u001b[39;00m \u001b[39menumerate\u001b[39m(dataset):\n\u001b[0;32m---> <a href='vscode-notebook-cell:/Users/pieter/Documents/CS-159/data_pieter.ipynb#ch0000011?line=13'>14</a>\u001b[0m     y_hat \u001b[39m=\u001b[39m model(snapshot\u001b[39m.\u001b[39;49mx, snapshot\u001b[39m.\u001b[39;49medge_index, snapshot\u001b[39m.\u001b[39;49medge_attr)\n\u001b[1;32m     <a href='vscode-notebook-cell:/Users/pieter/Documents/CS-159/data_pieter.ipynb#ch0000011?line=14'>15</a>\u001b[0m     cost \u001b[39m=\u001b[39m cost \u001b[39m+\u001b[39m torch\u001b[39m.\u001b[39mmean((y_hat\u001b[39m-\u001b[39msnapshot\u001b[39m.\u001b[39my)\u001b[39m*\u001b[39m\u001b[39m*\u001b[39m\u001b[39m2\u001b[39m)\n\u001b[1;32m     <a href='vscode-notebook-cell:/Users/pieter/Documents/CS-159/data_pieter.ipynb#ch0000011?line=15'>16</a>\u001b[0m cost \u001b[39m=\u001b[39m cost \u001b[39m/\u001b[39m (time\u001b[39m+\u001b[39m\u001b[39m1\u001b[39m)\n",
      "File \u001b[0;32m~/miniconda3/envs/cs159/lib/python3.9/site-packages/torch/nn/modules/module.py:1110\u001b[0m, in \u001b[0;36mModule._call_impl\u001b[0;34m(self, *input, **kwargs)\u001b[0m\n\u001b[1;32m   <a href='file:///Users/pieter/miniconda3/envs/cs159/lib/python3.9/site-packages/torch/nn/modules/module.py?line=1105'>1106</a>\u001b[0m \u001b[39m# If we don't have any hooks, we want to skip the rest of the logic in\u001b[39;00m\n\u001b[1;32m   <a href='file:///Users/pieter/miniconda3/envs/cs159/lib/python3.9/site-packages/torch/nn/modules/module.py?line=1106'>1107</a>\u001b[0m \u001b[39m# this function, and just call forward.\u001b[39;00m\n\u001b[1;32m   <a href='file:///Users/pieter/miniconda3/envs/cs159/lib/python3.9/site-packages/torch/nn/modules/module.py?line=1107'>1108</a>\u001b[0m \u001b[39mif\u001b[39;00m \u001b[39mnot\u001b[39;00m (\u001b[39mself\u001b[39m\u001b[39m.\u001b[39m_backward_hooks \u001b[39mor\u001b[39;00m \u001b[39mself\u001b[39m\u001b[39m.\u001b[39m_forward_hooks \u001b[39mor\u001b[39;00m \u001b[39mself\u001b[39m\u001b[39m.\u001b[39m_forward_pre_hooks \u001b[39mor\u001b[39;00m _global_backward_hooks\n\u001b[1;32m   <a href='file:///Users/pieter/miniconda3/envs/cs159/lib/python3.9/site-packages/torch/nn/modules/module.py?line=1108'>1109</a>\u001b[0m         \u001b[39mor\u001b[39;00m _global_forward_hooks \u001b[39mor\u001b[39;00m _global_forward_pre_hooks):\n\u001b[0;32m-> <a href='file:///Users/pieter/miniconda3/envs/cs159/lib/python3.9/site-packages/torch/nn/modules/module.py?line=1109'>1110</a>\u001b[0m     \u001b[39mreturn\u001b[39;00m forward_call(\u001b[39m*\u001b[39;49m\u001b[39minput\u001b[39;49m, \u001b[39m*\u001b[39;49m\u001b[39m*\u001b[39;49mkwargs)\n\u001b[1;32m   <a href='file:///Users/pieter/miniconda3/envs/cs159/lib/python3.9/site-packages/torch/nn/modules/module.py?line=1110'>1111</a>\u001b[0m \u001b[39m# Do not call functions when jit is used\u001b[39;00m\n\u001b[1;32m   <a href='file:///Users/pieter/miniconda3/envs/cs159/lib/python3.9/site-packages/torch/nn/modules/module.py?line=1111'>1112</a>\u001b[0m full_backward_hooks, non_full_backward_hooks \u001b[39m=\u001b[39m [], []\n",
      "\u001b[1;32m/Users/pieter/Documents/CS-159/data_pieter.ipynb Cell 8'\u001b[0m in \u001b[0;36mRecurrentGCN.forward\u001b[0;34m(self, x, edge_index, edge_weight)\u001b[0m\n\u001b[1;32m      <a href='vscode-notebook-cell:/Users/pieter/Documents/CS-159/data_pieter.ipynb#ch0000010?line=8'>9</a>\u001b[0m \u001b[39mdef\u001b[39;00m \u001b[39mforward\u001b[39m(\u001b[39mself\u001b[39m, x, edge_index, edge_weight):\n\u001b[0;32m---> <a href='vscode-notebook-cell:/Users/pieter/Documents/CS-159/data_pieter.ipynb#ch0000010?line=9'>10</a>\u001b[0m     h \u001b[39m=\u001b[39m \u001b[39mself\u001b[39;49m\u001b[39m.\u001b[39;49mrecurrent(x, edge_index, edge_weight)\n\u001b[1;32m     <a href='vscode-notebook-cell:/Users/pieter/Documents/CS-159/data_pieter.ipynb#ch0000010?line=10'>11</a>\u001b[0m     h \u001b[39m=\u001b[39m F\u001b[39m.\u001b[39mrelu(h)\n\u001b[1;32m     <a href='vscode-notebook-cell:/Users/pieter/Documents/CS-159/data_pieter.ipynb#ch0000010?line=11'>12</a>\u001b[0m     h \u001b[39m=\u001b[39m \u001b[39mself\u001b[39m\u001b[39m.\u001b[39mlinear(h)\n",
      "File \u001b[0;32m~/miniconda3/envs/cs159/lib/python3.9/site-packages/torch/nn/modules/module.py:1110\u001b[0m, in \u001b[0;36mModule._call_impl\u001b[0;34m(self, *input, **kwargs)\u001b[0m\n\u001b[1;32m   <a href='file:///Users/pieter/miniconda3/envs/cs159/lib/python3.9/site-packages/torch/nn/modules/module.py?line=1105'>1106</a>\u001b[0m \u001b[39m# If we don't have any hooks, we want to skip the rest of the logic in\u001b[39;00m\n\u001b[1;32m   <a href='file:///Users/pieter/miniconda3/envs/cs159/lib/python3.9/site-packages/torch/nn/modules/module.py?line=1106'>1107</a>\u001b[0m \u001b[39m# this function, and just call forward.\u001b[39;00m\n\u001b[1;32m   <a href='file:///Users/pieter/miniconda3/envs/cs159/lib/python3.9/site-packages/torch/nn/modules/module.py?line=1107'>1108</a>\u001b[0m \u001b[39mif\u001b[39;00m \u001b[39mnot\u001b[39;00m (\u001b[39mself\u001b[39m\u001b[39m.\u001b[39m_backward_hooks \u001b[39mor\u001b[39;00m \u001b[39mself\u001b[39m\u001b[39m.\u001b[39m_forward_hooks \u001b[39mor\u001b[39;00m \u001b[39mself\u001b[39m\u001b[39m.\u001b[39m_forward_pre_hooks \u001b[39mor\u001b[39;00m _global_backward_hooks\n\u001b[1;32m   <a href='file:///Users/pieter/miniconda3/envs/cs159/lib/python3.9/site-packages/torch/nn/modules/module.py?line=1108'>1109</a>\u001b[0m         \u001b[39mor\u001b[39;00m _global_forward_hooks \u001b[39mor\u001b[39;00m _global_forward_pre_hooks):\n\u001b[0;32m-> <a href='file:///Users/pieter/miniconda3/envs/cs159/lib/python3.9/site-packages/torch/nn/modules/module.py?line=1109'>1110</a>\u001b[0m     \u001b[39mreturn\u001b[39;00m forward_call(\u001b[39m*\u001b[39;49m\u001b[39minput\u001b[39;49m, \u001b[39m*\u001b[39;49m\u001b[39m*\u001b[39;49mkwargs)\n\u001b[1;32m   <a href='file:///Users/pieter/miniconda3/envs/cs159/lib/python3.9/site-packages/torch/nn/modules/module.py?line=1110'>1111</a>\u001b[0m \u001b[39m# Do not call functions when jit is used\u001b[39;00m\n\u001b[1;32m   <a href='file:///Users/pieter/miniconda3/envs/cs159/lib/python3.9/site-packages/torch/nn/modules/module.py?line=1111'>1112</a>\u001b[0m full_backward_hooks, non_full_backward_hooks \u001b[39m=\u001b[39m [], []\n",
      "File \u001b[0;32m~/miniconda3/envs/cs159/lib/python3.9/site-packages/torch_geometric_temporal/nn/recurrent/dcrnn.py:215\u001b[0m, in \u001b[0;36mDCRNN.forward\u001b[0;34m(self, X, edge_index, edge_weight, H)\u001b[0m\n\u001b[1;32m    <a href='file:///Users/pieter/miniconda3/envs/cs159/lib/python3.9/site-packages/torch_geometric_temporal/nn/recurrent/dcrnn.py?line=200'>201</a>\u001b[0m \u001b[39mr\u001b[39m\u001b[39m\"\"\"Making a forward pass. If edge weights are not present the forward pass\u001b[39;00m\n\u001b[1;32m    <a href='file:///Users/pieter/miniconda3/envs/cs159/lib/python3.9/site-packages/torch_geometric_temporal/nn/recurrent/dcrnn.py?line=201'>202</a>\u001b[0m \u001b[39mdefaults to an unweighted graph. If the hidden state matrix is not present\u001b[39;00m\n\u001b[1;32m    <a href='file:///Users/pieter/miniconda3/envs/cs159/lib/python3.9/site-packages/torch_geometric_temporal/nn/recurrent/dcrnn.py?line=202'>203</a>\u001b[0m \u001b[39mwhen the forward pass is called it is initialized with zeros.\u001b[39;00m\n\u001b[0;32m   (...)\u001b[0m\n\u001b[1;32m    <a href='file:///Users/pieter/miniconda3/envs/cs159/lib/python3.9/site-packages/torch_geometric_temporal/nn/recurrent/dcrnn.py?line=211'>212</a>\u001b[0m \u001b[39m    * **H** (PyTorch Float Tensor) - Hidden state matrix for all nodes.\u001b[39;00m\n\u001b[1;32m    <a href='file:///Users/pieter/miniconda3/envs/cs159/lib/python3.9/site-packages/torch_geometric_temporal/nn/recurrent/dcrnn.py?line=212'>213</a>\u001b[0m \u001b[39m\"\"\"\u001b[39;00m\n\u001b[1;32m    <a href='file:///Users/pieter/miniconda3/envs/cs159/lib/python3.9/site-packages/torch_geometric_temporal/nn/recurrent/dcrnn.py?line=213'>214</a>\u001b[0m H \u001b[39m=\u001b[39m \u001b[39mself\u001b[39m\u001b[39m.\u001b[39m_set_hidden_state(X, H)\n\u001b[0;32m--> <a href='file:///Users/pieter/miniconda3/envs/cs159/lib/python3.9/site-packages/torch_geometric_temporal/nn/recurrent/dcrnn.py?line=214'>215</a>\u001b[0m Z \u001b[39m=\u001b[39m \u001b[39mself\u001b[39;49m\u001b[39m.\u001b[39;49m_calculate_update_gate(X, edge_index, edge_weight, H)\n\u001b[1;32m    <a href='file:///Users/pieter/miniconda3/envs/cs159/lib/python3.9/site-packages/torch_geometric_temporal/nn/recurrent/dcrnn.py?line=215'>216</a>\u001b[0m R \u001b[39m=\u001b[39m \u001b[39mself\u001b[39m\u001b[39m.\u001b[39m_calculate_reset_gate(X, edge_index, edge_weight, H)\n\u001b[1;32m    <a href='file:///Users/pieter/miniconda3/envs/cs159/lib/python3.9/site-packages/torch_geometric_temporal/nn/recurrent/dcrnn.py?line=216'>217</a>\u001b[0m H_tilde \u001b[39m=\u001b[39m \u001b[39mself\u001b[39m\u001b[39m.\u001b[39m_calculate_candidate_state(X, edge_index, edge_weight, H, R)\n",
      "File \u001b[0;32m~/miniconda3/envs/cs159/lib/python3.9/site-packages/torch_geometric_temporal/nn/recurrent/dcrnn.py:174\u001b[0m, in \u001b[0;36mDCRNN._calculate_update_gate\u001b[0;34m(self, X, edge_index, edge_weight, H)\u001b[0m\n\u001b[1;32m    <a href='file:///Users/pieter/miniconda3/envs/cs159/lib/python3.9/site-packages/torch_geometric_temporal/nn/recurrent/dcrnn.py?line=171'>172</a>\u001b[0m \u001b[39mdef\u001b[39;00m \u001b[39m_calculate_update_gate\u001b[39m(\u001b[39mself\u001b[39m, X, edge_index, edge_weight, H):\n\u001b[1;32m    <a href='file:///Users/pieter/miniconda3/envs/cs159/lib/python3.9/site-packages/torch_geometric_temporal/nn/recurrent/dcrnn.py?line=172'>173</a>\u001b[0m     Z \u001b[39m=\u001b[39m torch\u001b[39m.\u001b[39mcat([X, H], dim\u001b[39m=\u001b[39m\u001b[39m1\u001b[39m)\n\u001b[0;32m--> <a href='file:///Users/pieter/miniconda3/envs/cs159/lib/python3.9/site-packages/torch_geometric_temporal/nn/recurrent/dcrnn.py?line=173'>174</a>\u001b[0m     Z \u001b[39m=\u001b[39m \u001b[39mself\u001b[39;49m\u001b[39m.\u001b[39;49mconv_x_z(Z, edge_index, edge_weight)\n\u001b[1;32m    <a href='file:///Users/pieter/miniconda3/envs/cs159/lib/python3.9/site-packages/torch_geometric_temporal/nn/recurrent/dcrnn.py?line=174'>175</a>\u001b[0m     Z \u001b[39m=\u001b[39m torch\u001b[39m.\u001b[39msigmoid(Z)\n\u001b[1;32m    <a href='file:///Users/pieter/miniconda3/envs/cs159/lib/python3.9/site-packages/torch_geometric_temporal/nn/recurrent/dcrnn.py?line=175'>176</a>\u001b[0m     \u001b[39mreturn\u001b[39;00m Z\n",
      "File \u001b[0;32m~/miniconda3/envs/cs159/lib/python3.9/site-packages/torch/nn/modules/module.py:1110\u001b[0m, in \u001b[0;36mModule._call_impl\u001b[0;34m(self, *input, **kwargs)\u001b[0m\n\u001b[1;32m   <a href='file:///Users/pieter/miniconda3/envs/cs159/lib/python3.9/site-packages/torch/nn/modules/module.py?line=1105'>1106</a>\u001b[0m \u001b[39m# If we don't have any hooks, we want to skip the rest of the logic in\u001b[39;00m\n\u001b[1;32m   <a href='file:///Users/pieter/miniconda3/envs/cs159/lib/python3.9/site-packages/torch/nn/modules/module.py?line=1106'>1107</a>\u001b[0m \u001b[39m# this function, and just call forward.\u001b[39;00m\n\u001b[1;32m   <a href='file:///Users/pieter/miniconda3/envs/cs159/lib/python3.9/site-packages/torch/nn/modules/module.py?line=1107'>1108</a>\u001b[0m \u001b[39mif\u001b[39;00m \u001b[39mnot\u001b[39;00m (\u001b[39mself\u001b[39m\u001b[39m.\u001b[39m_backward_hooks \u001b[39mor\u001b[39;00m \u001b[39mself\u001b[39m\u001b[39m.\u001b[39m_forward_hooks \u001b[39mor\u001b[39;00m \u001b[39mself\u001b[39m\u001b[39m.\u001b[39m_forward_pre_hooks \u001b[39mor\u001b[39;00m _global_backward_hooks\n\u001b[1;32m   <a href='file:///Users/pieter/miniconda3/envs/cs159/lib/python3.9/site-packages/torch/nn/modules/module.py?line=1108'>1109</a>\u001b[0m         \u001b[39mor\u001b[39;00m _global_forward_hooks \u001b[39mor\u001b[39;00m _global_forward_pre_hooks):\n\u001b[0;32m-> <a href='file:///Users/pieter/miniconda3/envs/cs159/lib/python3.9/site-packages/torch/nn/modules/module.py?line=1109'>1110</a>\u001b[0m     \u001b[39mreturn\u001b[39;00m forward_call(\u001b[39m*\u001b[39;49m\u001b[39minput\u001b[39;49m, \u001b[39m*\u001b[39;49m\u001b[39m*\u001b[39;49mkwargs)\n\u001b[1;32m   <a href='file:///Users/pieter/miniconda3/envs/cs159/lib/python3.9/site-packages/torch/nn/modules/module.py?line=1110'>1111</a>\u001b[0m \u001b[39m# Do not call functions when jit is used\u001b[39;00m\n\u001b[1;32m   <a href='file:///Users/pieter/miniconda3/envs/cs159/lib/python3.9/site-packages/torch/nn/modules/module.py?line=1111'>1112</a>\u001b[0m full_backward_hooks, non_full_backward_hooks \u001b[39m=\u001b[39m [], []\n",
      "File \u001b[0;32m~/miniconda3/envs/cs159/lib/python3.9/site-packages/torch_geometric_temporal/nn/recurrent/dcrnn.py:60\u001b[0m, in \u001b[0;36mDConv.forward\u001b[0;34m(self, X, edge_index, edge_weight)\u001b[0m\n\u001b[1;32m     <a href='file:///Users/pieter/miniconda3/envs/cs159/lib/python3.9/site-packages/torch_geometric_temporal/nn/recurrent/dcrnn.py?line=47'>48</a>\u001b[0m \u001b[39mr\u001b[39m\u001b[39m\"\"\"Making a forward pass. If edge weights are not present the forward pass\u001b[39;00m\n\u001b[1;32m     <a href='file:///Users/pieter/miniconda3/envs/cs159/lib/python3.9/site-packages/torch_geometric_temporal/nn/recurrent/dcrnn.py?line=48'>49</a>\u001b[0m \u001b[39mdefaults to an unweighted graph.\u001b[39;00m\n\u001b[1;32m     <a href='file:///Users/pieter/miniconda3/envs/cs159/lib/python3.9/site-packages/torch_geometric_temporal/nn/recurrent/dcrnn.py?line=49'>50</a>\u001b[0m \n\u001b[0;32m   (...)\u001b[0m\n\u001b[1;32m     <a href='file:///Users/pieter/miniconda3/envs/cs159/lib/python3.9/site-packages/torch_geometric_temporal/nn/recurrent/dcrnn.py?line=56'>57</a>\u001b[0m \u001b[39m    * **H** (PyTorch Float Tensor) - Hidden state matrix for all nodes.\u001b[39;00m\n\u001b[1;32m     <a href='file:///Users/pieter/miniconda3/envs/cs159/lib/python3.9/site-packages/torch_geometric_temporal/nn/recurrent/dcrnn.py?line=57'>58</a>\u001b[0m \u001b[39m\"\"\"\u001b[39;00m\n\u001b[1;32m     <a href='file:///Users/pieter/miniconda3/envs/cs159/lib/python3.9/site-packages/torch_geometric_temporal/nn/recurrent/dcrnn.py?line=58'>59</a>\u001b[0m adj_mat \u001b[39m=\u001b[39m to_dense_adj(edge_index, edge_attr\u001b[39m=\u001b[39medge_weight)\n\u001b[0;32m---> <a href='file:///Users/pieter/miniconda3/envs/cs159/lib/python3.9/site-packages/torch_geometric_temporal/nn/recurrent/dcrnn.py?line=59'>60</a>\u001b[0m adj_mat \u001b[39m=\u001b[39m adj_mat\u001b[39m.\u001b[39;49mreshape(adj_mat\u001b[39m.\u001b[39;49msize(\u001b[39m1\u001b[39;49m), adj_mat\u001b[39m.\u001b[39;49msize(\u001b[39m2\u001b[39;49m))\n\u001b[1;32m     <a href='file:///Users/pieter/miniconda3/envs/cs159/lib/python3.9/site-packages/torch_geometric_temporal/nn/recurrent/dcrnn.py?line=60'>61</a>\u001b[0m deg_out \u001b[39m=\u001b[39m torch\u001b[39m.\u001b[39mmatmul(\n\u001b[1;32m     <a href='file:///Users/pieter/miniconda3/envs/cs159/lib/python3.9/site-packages/torch_geometric_temporal/nn/recurrent/dcrnn.py?line=61'>62</a>\u001b[0m     adj_mat, torch\u001b[39m.\u001b[39mones(size\u001b[39m=\u001b[39m(adj_mat\u001b[39m.\u001b[39msize(\u001b[39m0\u001b[39m), \u001b[39m1\u001b[39m))\u001b[39m.\u001b[39mto(X\u001b[39m.\u001b[39mdevice)\n\u001b[1;32m     <a href='file:///Users/pieter/miniconda3/envs/cs159/lib/python3.9/site-packages/torch_geometric_temporal/nn/recurrent/dcrnn.py?line=62'>63</a>\u001b[0m )\n\u001b[1;32m     <a href='file:///Users/pieter/miniconda3/envs/cs159/lib/python3.9/site-packages/torch_geometric_temporal/nn/recurrent/dcrnn.py?line=63'>64</a>\u001b[0m deg_out \u001b[39m=\u001b[39m deg_out\u001b[39m.\u001b[39mflatten()\n",
      "\u001b[0;31mKeyboardInterrupt\u001b[0m: "
     ]
    }
   ],
   "source": [
    "# training the model\n",
    "\n",
    "# train_dataset, test_dataset = temporal_signal_split(dataset, train_ratio=0.2)\n",
    "\n",
    "model = RecurrentGCN(node_features = 2)\n",
    "\n",
    "optimizer = torch.optim.Adam(model.parameters(), lr=0.01)\n",
    "\n",
    "model.train()\n",
    "\n",
    "for epoch in tqdm(range(200)):\n",
    "    cost = 0\n",
    "    for time, snapshot in enumerate(dataset):\n",
    "        y_hat = model(snapshot.x, snapshot.edge_index, snapshot.edge_attr)\n",
    "        cost = cost + torch.mean((y_hat-snapshot.y)**2)\n",
    "    cost = cost / (time+1)\n",
    "    print(cost)\n",
    "    cost.backward()\n",
    "    optimizer.step()\n",
    "    optimizer.zero_grad()"
   ]
  },
  {
   "cell_type": "code",
   "execution_count": 15,
   "metadata": {},
   "outputs": [
    {
     "name": "stdout",
     "output_type": "stream",
     "text": [
      "MSE: 0.7985\n"
     ]
    }
   ],
   "source": [
    "# testing the model\n",
    "\n",
    "model.eval()\n",
    "cost = 0\n",
    "for time, snapshot in enumerate(dataset):\n",
    "    # print(snapshot.x,snapshot.edge_index,snapshot.y)\n",
    "    # break\n",
    "    y_hat = model(snapshot.x, snapshot.edge_index, snapshot.edge_attr)\n",
    "    cost = cost + torch.mean((y_hat-snapshot.y)**2)\n",
    "cost = cost / (time+1)\n",
    "cost = cost.item()\n",
    "print(\"MSE: {:.4f}\".format(cost))"
   ]
  },
  {
   "cell_type": "code",
   "execution_count": null,
   "metadata": {},
   "outputs": [],
   "source": [
    "# model for predictions\n",
    "\n",
    "class GAT(torch.nn.Module):\n",
    "    def __init__(self,\n",
    "                 node_dim: int,\n",
    "                 hidden_dim: int,\n",
    "                 num_layers: int,\n",
    "                 dropout: float):\n",
    "        \"\"\"\n",
    "        Args\n",
    "        - node_dim: int, dimension of input node features\n",
    "        - hidden_dim: int, dimensions of hidden layers\n",
    "        - num_layers: int, # of hidden layers\n",
    "        - dropout: float, probability of dropout\n",
    "        \"\"\"\n",
    "        super(GAT, self).__init__()\n",
    "\n",
    "        # save all of the info\n",
    "        self.node_dim = node_dim\n",
    "        self.hidden_dim = hidden_dim\n",
    "        self.num_layers = num_layers\n",
    "        self.dropout = dropout\n",
    "\n",
    "        # since there are a limited # of atoms, we first embed them into a\n",
    "        # higher dimension using a lookup table\n",
    "        # self.atom_encoder = AtomEncoder(emb_dim=hidden_dim)\n",
    "\n",
    "        # a list of GATv2 layers, with dropout\n",
    "        self.convs = nn.ModuleList()\n",
    "        self.bns = nn.ModuleList()\n",
    "        for l in range(num_layers):\n",
    "            layer = pyg_nn.GATv2Conv(in_channels=hidden_dim,\n",
    "                                     out_channels=hidden_dim,\n",
    "                                     dropout=dropout)\n",
    "            self.convs.append(layer)\n",
    "            self.bns.append(nn.BatchNorm1d(hidden_dim))\n",
    "\n",
    "        # fully-connected final layer\n",
    "        self.fc = nn.Linear(hidden_dim, 1)\n",
    "\n",
    "    def forward(self, data: pyg.data.Data) -> torch.Tensor:\n",
    "        \"\"\"\n",
    "        Args\n",
    "        - data: pyg.data.Batch, a batch of graphs\n",
    "\n",
    "        Returns: torch.Tensor, shape [batch_size], unnormalized classification\n",
    "            probability for each graph\n",
    "        \"\"\"\n",
    "        x, edge_index, edge_attr, batch = (\n",
    "            data.x, data.edge_index, data.edge_attr, data.batch)\n",
    "\n",
    "        # x = self.atom_encoder(x)\n",
    "\n",
    "        for l, conv in enumerate(self.convs):\n",
    "            x = conv(x, edge_index)\n",
    "            if l != self.num_layers - 1:\n",
    "                x = self.bns[l](x)\n",
    "                x = F.relu(x)\n",
    "\n",
    "        x = pyg_nn.global_mean_pool(x, batch=batch)\n",
    "        # x = pyg_nn.global_add_pool(x, batch=batch)\n",
    "        x = self.fc(x)\n",
    "        return x\n",
    "\n",
    "\n",
    "\n",
    "device = torch.device('cuda' if torch.cuda.is_available() else 'cpu')\n",
    "device = \"cpu\"\n",
    "\n",
    "model = GAT(node_dim=dataset.num_node_features,\n",
    "            hidden_dim=2,\n",
    "            num_layers=3,\n",
    "            dropout=0.3).to(device)\n",
    "# data = dataset.to(device)\n",
    "\n",
    "\n",
    "optimizer = torch.optim.Adam(model.parameters(), lr=0.005, weight_decay=5e-4)\n",
    "\n",
    "model.train()\n",
    "total_loss = 0\n",
    "all_preds = []\n",
    "all_labels = []\n",
    "train_loader = DataLoader(dataset, batch_size=32, shuffle=True, num_workers=0)\n",
    "loss_fn = nn.BCEWithLogitsLoss()\n",
    "for epoch in range(10):\n",
    "    for step, batch in enumerate(train_loader):\n",
    "\n",
    "        all_labels.append(batch.y.detach())\n",
    "\n",
    "        batch = batch.to(device)\n",
    "        batch_size = batch.batch.max().item()\n",
    "\n",
    "        preds = model(batch)\n",
    "        print(preds.shape)\n",
    "        all_preds.append(preds.detach().cpu())\n",
    "        loss = loss_fn(preds, batch.y.to(torch.float32))\n",
    "        total_loss += loss.item() * batch_size\n",
    "\n",
    "        optimizer.zero_grad()\n",
    "        loss.backward()\n",
    "        optimizer.step()"
   ]
  }
 ],
 "metadata": {
  "interpreter": {
   "hash": "8b65681a3d19f4b473b45a90bc0c881aec513e0960c214c85a14e16ba4a66a1e"
  },
  "kernelspec": {
   "display_name": "Python 3.9.12 ('cs159')",
   "language": "python",
   "name": "python3"
  },
  "language_info": {
   "codemirror_mode": {
    "name": "ipython",
    "version": 3
   },
   "file_extension": ".py",
   "mimetype": "text/x-python",
   "name": "python",
   "nbconvert_exporter": "python",
   "pygments_lexer": "ipython3",
   "version": "3.9.12"
  }
 },
 "nbformat": 4,
 "nbformat_minor": 2
}
