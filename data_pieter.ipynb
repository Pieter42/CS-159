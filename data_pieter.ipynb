{
 "cells": [
  {
   "cell_type": "code",
   "execution_count": null,
   "metadata": {},
   "outputs": [],
   "source": [
    "# imports\n",
    "\n",
    "import matplotlib.pyplot as plt\n",
    "import networkx as nx\n",
    "import numpy as np\n",
    "import torch\n",
    "from torch_geometric.data import Data\n",
    "from torch_geometric.utils import to_networkx"
   ]
  },
  {
   "cell_type": "code",
   "execution_count": null,
   "metadata": {},
   "outputs": [],
   "source": [
    "# data loading\n",
    "\n",
    "raw_data = np.load('data/calms21_task3_train.npy', allow_pickle=True)\n",
    "raw_features = raw_data[()]['approach']['task3/approach/train/mouse001_task3_approach']['keypoints']\n",
    "labels = raw_data[()]['approach']['task3/approach/train/mouse001_task3_approach']['annotations']"
   ]
  },
  {
   "cell_type": "code",
   "execution_count": null,
   "metadata": {},
   "outputs": [],
   "source": [
    "# data reshaping\n",
    "\n",
    "features = np.swapaxes(raw_features, 2,3).reshape(-1,14,2)\n",
    "\n",
    "# tmp = []\n",
    "# for frame in raw_features:\n",
    "#     mouse1 = zip(frame[0][0].tolist(), frame[0][1].tolist())\n",
    "#     mouse2 = zip(frame[1][0].tolist(), frame[1][1].tolist())\n",
    "#     # print(list(mouse1))\n",
    "#     tmp.append(list(mouse1) + list(mouse2))\n",
    "# features = tmp"
   ]
  },
  {
   "cell_type": "code",
   "execution_count": null,
   "metadata": {},
   "outputs": [],
   "source": [
    "# putting the data in a graph\n",
    "\n",
    "mouse1 = [0,1,0,2,1,3,1,2,3,4,3,5,4,6,5,6]\n",
    "mouse2 = [x+7 for x in mouse1]\n",
    "first_option = mouse1+[3,10]+mouse2\n",
    "\n",
    "i = [0,0,1,1,3,3,4,5]\n",
    "j = [1,2,3,2,4,5,6,6]\n",
    "i2 = [x+7 for x in i]\n",
    "j2 = [x+7 for x in j]\n",
    "second_option = [i+[3]+i2,j+[10]+j2]\n",
    "\n",
    "edge_index = torch.tensor(second_option, dtype=torch.long)\n",
    "x = torch.tensor(features[0], dtype=torch.float)\n",
    "\n",
    "graph = Data(x=x, edge_index=edge_index)"
   ]
  },
  {
   "cell_type": "code",
   "execution_count": null,
   "metadata": {},
   "outputs": [],
   "source": [
    "# visualizing the graph\n",
    "\n",
    "print(graph.edge_index.t().tolist())\n",
    "\n",
    "G = to_networkx(graph, to_undirected=True)\n",
    "\n",
    "# method 1\n",
    "G = nx.DiGraph(G)\n",
    "nx.draw(G)\n",
    "\n",
    "# method 2\n",
    "def visualize(h, color, epoch=None, loss=None):\n",
    "    plt.figure(figsize=(7,7))\n",
    "    plt.xticks([])\n",
    "    plt.yticks([])\n",
    "\n",
    "    if torch.is_tensor(h):\n",
    "        h = h.detach().cpu().numpy()\n",
    "        plt.scatter(h[:, 0], h[:, 1], s=140, c=color, cmap=\"Set2\")\n",
    "        if epoch is not None and loss is not None:\n",
    "            plt.xlabel(f'Epoch: {epoch}, Loss: {loss.item():.4f}', fontsize=16)\n",
    "    else:\n",
    "        nx.draw_networkx(G, pos=nx.spring_layout(G, seed=42), with_labels=False,\n",
    "                         node_color=color, cmap=\"Set2\")\n",
    "    plt.show()\n",
    "    \n",
    "visualize(G, color=graph.y)"
   ]
  }
 ],
 "metadata": {
  "interpreter": {
   "hash": "394a9deaabb389c621ad4b432032bc25e6e32f0298066e7f782700806aed2384"
  },
  "kernelspec": {
   "display_name": "Python 3.7.13 ('tf')",
   "language": "python",
   "name": "python3"
  },
  "language_info": {
   "codemirror_mode": {
    "name": "ipython",
    "version": 3
   },
   "file_extension": ".py",
   "mimetype": "text/x-python",
   "name": "python",
   "nbconvert_exporter": "python",
   "pygments_lexer": "ipython3",
   "version": "3.7.13"
  },
  "orig_nbformat": 4
 },
 "nbformat": 4,
 "nbformat_minor": 2
}
